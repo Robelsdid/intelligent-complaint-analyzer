{
 "cells": [
  {
   "cell_type": "code",
   "execution_count": 1,
   "id": "bb2eeeb6",
   "metadata": {},
   "outputs": [],
   "source": [
    "import pandas as pd\n",
    "import numpy as np\n",
    "import faiss\n",
    "from sentence_transformers import SentenceTransformer\n",
    "from transformers import pipeline\n",
    "import sys\n",
    "sys.path.append('../src')\n",
    "\n",
    "from rag_utils import retrieve_relevant_chunks, build_prompt, generate_answer"
   ]
  },
  {
   "cell_type": "code",
   "execution_count": 2,
   "id": "5e4ee642",
   "metadata": {},
   "outputs": [],
   "source": [
    "# Load FAISS index\n",
    "faiss_index = faiss.read_index('../vector_store/complaints_faiss.index')\n",
    "\n",
    "# Load metadata (should include 'chunk_text' and any other columns)\n",
    "metadata_df = pd.read_csv('../data/chunked_complaints.csv')\n",
    "\n",
    "# Load embedding model \n",
    "embed_model = SentenceTransformer('sentence-transformers/all-MiniLM-L6-v2')"
   ]
  },
  {
   "cell_type": "code",
   "execution_count": 9,
   "id": "71fedb63",
   "metadata": {},
   "outputs": [
    {
     "data": {
      "application/vnd.jupyter.widget-view+json": {
       "model_id": "1ccff081ae734b55a4e0ab3cd614ed2f",
       "version_major": 2,
       "version_minor": 0
      },
      "text/plain": [
       "config.json: 0.00B [00:00, ?B/s]"
      ]
     },
     "metadata": {},
     "output_type": "display_data"
    },
    {
     "name": "stderr",
     "output_type": "stream",
     "text": [
      "c:\\Users\\aweso\\intelligent-complaint-analyzer\\rag-env\\Lib\\site-packages\\huggingface_hub\\file_download.py:143: UserWarning: `huggingface_hub` cache-system uses symlinks by default to efficiently store duplicated files but your machine does not support them in C:\\Users\\aweso\\.cache\\huggingface\\hub\\models--google--flan-t5-base. Caching files will still work but in a degraded version that might require more space on your disk. This warning can be disabled by setting the `HF_HUB_DISABLE_SYMLINKS_WARNING` environment variable. For more details, see https://huggingface.co/docs/huggingface_hub/how-to-cache#limitations.\n",
      "To support symlinks on Windows, you either need to activate Developer Mode or to run Python as an administrator. In order to activate developer mode, see this article: https://docs.microsoft.com/en-us/windows/apps/get-started/enable-your-device-for-development\n",
      "  warnings.warn(message)\n",
      "Xet Storage is enabled for this repo, but the 'hf_xet' package is not installed. Falling back to regular HTTP download. For better performance, install the package with: `pip install huggingface_hub[hf_xet]` or `pip install hf_xet`\n"
     ]
    },
    {
     "data": {
      "application/vnd.jupyter.widget-view+json": {
       "model_id": "2648a159a9094bcda06bbe9db60f9202",
       "version_major": 2,
       "version_minor": 0
      },
      "text/plain": [
       "model.safetensors:   0%|          | 0.00/990M [00:00<?, ?B/s]"
      ]
     },
     "metadata": {},
     "output_type": "display_data"
    },
    {
     "data": {
      "application/vnd.jupyter.widget-view+json": {
       "model_id": "261d7a9d9df94e22a1269d515520d7cb",
       "version_major": 2,
       "version_minor": 0
      },
      "text/plain": [
       "generation_config.json:   0%|          | 0.00/147 [00:00<?, ?B/s]"
      ]
     },
     "metadata": {},
     "output_type": "display_data"
    },
    {
     "data": {
      "application/vnd.jupyter.widget-view+json": {
       "model_id": "a1ef4473c8e24ea5a1a50dbbaacfac6a",
       "version_major": 2,
       "version_minor": 0
      },
      "text/plain": [
       "tokenizer_config.json: 0.00B [00:00, ?B/s]"
      ]
     },
     "metadata": {},
     "output_type": "display_data"
    },
    {
     "name": "stderr",
     "output_type": "stream",
     "text": [
      "Xet Storage is enabled for this repo, but the 'hf_xet' package is not installed. Falling back to regular HTTP download. For better performance, install the package with: `pip install huggingface_hub[hf_xet]` or `pip install hf_xet`\n"
     ]
    },
    {
     "data": {
      "application/vnd.jupyter.widget-view+json": {
       "model_id": "6c71d57707ec41bb9723f68cf4868935",
       "version_major": 2,
       "version_minor": 0
      },
      "text/plain": [
       "spiece.model:   0%|          | 0.00/792k [00:00<?, ?B/s]"
      ]
     },
     "metadata": {},
     "output_type": "display_data"
    },
    {
     "data": {
      "application/vnd.jupyter.widget-view+json": {
       "model_id": "c2afb0c1126749f9ad2a127fd53437ff",
       "version_major": 2,
       "version_minor": 0
      },
      "text/plain": [
       "tokenizer.json: 0.00B [00:00, ?B/s]"
      ]
     },
     "metadata": {},
     "output_type": "display_data"
    },
    {
     "data": {
      "application/vnd.jupyter.widget-view+json": {
       "model_id": "6cf9fd7473ad48a5860572e874dbc9e4",
       "version_major": 2,
       "version_minor": 0
      },
      "text/plain": [
       "special_tokens_map.json: 0.00B [00:00, ?B/s]"
      ]
     },
     "metadata": {},
     "output_type": "display_data"
    },
    {
     "name": "stderr",
     "output_type": "stream",
     "text": [
      "Device set to use cuda:0\n"
     ]
    }
   ],
   "source": [
    "llm_pipeline = pipeline(\n",
    "    \"text2text-generation\",\n",
    "    model=\"google/flan-t5-base\",\n",
    "    max_length=256,\n",
    "    min_length=50,\n",
    "    device=0  # using my GPU\n",
    ")"
   ]
  },
  {
   "cell_type": "markdown",
   "id": "16b57642",
   "metadata": {},
   "source": [
    "Defining the RAG pipline function"
   ]
  },
  {
   "cell_type": "code",
   "execution_count": 10,
   "id": "5dffebf7",
   "metadata": {},
   "outputs": [],
   "source": [
    "def rag_answer(\n",
    "    question,\n",
    "    embed_model,\n",
    "    faiss_index,\n",
    "    metadata_df,\n",
    "    llm_pipeline,\n",
    "    k=5\n",
    "):\n",
    "    # Retrieve top-k relevant chunks\n",
    "    chunks = retrieve_relevant_chunks(\n",
    "        question, embed_model, faiss_index, metadata_df, k=k\n",
    "    )\n",
    "    # Add chunk_text to each chunk (if not present)\n",
    "    if 'chunk_text' not in chunks[0]:\n",
    "        for i, c in enumerate(chunks):\n",
    "            c['chunk_text'] = metadata_df.iloc[i]['chunk_text']\n",
    "    # Build prompt\n",
    "    prompt = build_prompt(chunks, question)\n",
    "    # Generate answer\n",
    "    answer = generate_answer(prompt, llm_pipeline)\n",
    "    return answer, chunks"
   ]
  },
  {
   "cell_type": "code",
   "execution_count": 12,
   "id": "a81e725c",
   "metadata": {},
   "outputs": [
    {
     "name": "stdout",
     "output_type": "stream",
     "text": [
      "Question: Why are people unhappy with Buy Now, Pay Later?\n",
      "Generated Answer: They want more money which is not fair --- and investments etc it seems like synchrony is getting greedy worse yet they are making it much easier for people to miss a payment that consequence would engender a late payment fee and decrease the person s credit score this would force many people into financial ruin i have exceptional credit and have never had late payments it is risky and unfair to shift these costs to the consumer also i am --- on time this also hurts the stores because they lose tons of business from good paying customers who pay their bills --- when i have not i am very frustrated i am sure i am not the only consumer this is happening to we should not be penalized for making payments early there should be a system in place to prevent this misapplying of payments and charging unfair late fees to consumers especially ones like me who have been faithful in paying every single month --- practices and corporate greed also i have been waiting for them to send me their version of a chip credit card since xxxx of 2015 why are they so neglectful in taking care of their aforementioned client\n",
      "Top 2 Source Chunks:\n",
      "- of a long time ago i feel they waited this long to do so because they wanted more money which is not fair ...\n",
      "- and investments etc it seems like synchrony is getting greedy worse yet they are making it much easier for people to miss a payment that consequence would engender a late payment fee and decrease the person s credit score this would force many people into financial ruin i have exceptional credit and ...\n",
      "================================================================================\n",
      "Question: What are the most common complaints about credit cards?\n",
      "Generated Answer: not right and i am wanting to do a formal complaint with these credit card practices can you please assist best xxxx xxxx xxxx --- explanation in 25 years of dealing with credit card companies this has to be the one of the worst customer service issues i have ever heard of --- of the bank of america credit card team i have used many credit cards and i have never encountered such issues and have to talk to clueless representatives over and over again --- legitimate complaints i hope they will be investigated because i doubt i am the only person who has been duped and signed up for a credit card offer that did not materialize --- credit card issuers in these complaints the language may vary however the results convey and enforce uniformly the same us banks will not accept formal filings of complaint against xxxx xxxxxxxx\n",
      "Top 2 Source Chunks:\n",
      "- card this is terriable and this is not right and i am wanting to do a formal complaint with these credit card practices can you please assist best xxxx xxxx xxxx ...\n",
      "- explanation in 25 years of dealing with credit card companies this has to be the one of the worst customer service issues i have ever heard of ...\n",
      "================================================================================\n",
      "Question: Are there issues with money transfers?\n",
      "Generated Answer: Yes, there was a security issue with the transfer and they needed a refund. This is unacceptable consumers need to have some sort of recourse in the event of fraud --- on xxxx xxxx 2016 i sent a money transfer of 10000 to a friend who is starting a new job it was supposed to be available in ten minutes i even got an email that confirmed it was available on xxxx xxxx 2016 my friend said he was experiencing problems getting the money i contacted moneygram to cancel the transaction and they told me that there was a security issue with the transfer and they needed --- trying i tried again transferring and withdrawing money on xxxxxxxx and same issue this is money network has very bad customer service when you finally get a representative nobody wants to help or do research i don't know why would xxxx xxxx would do business with them if they have horrible reviews on line from clients xxxx xxxx\n",
      "Top 2 Source Chunks:\n",
      "- money transfer this is unacceptable consumers need to have some sort of recourse in the event of fraud ...\n",
      "- on xxxx xxxx 2016 i sent a money transfer of 10000 to a friend who is starting a new job it was supposed to be available in ten minutes i even got an email that confirmed it was available on xxxx xxxx 2016 my friend said he was experiencing problems getting the money i contacted money gram to cancel ...\n",
      "================================================================================\n",
      "Question: What problems do customers report with savings accounts?\n",
      "Generated Answer: checking accounts being closed without notice rates being changed rates as high as 30 and more these complaints can be seen online where they advertise i think they need to be looked into they are xxxx over thousands of customers --- as processing on checking accounts but show other processing transactions leading to customers checking their accounts and seeing more money available than they actually can spend they have the ability to do these things differently like they do with every other transaction yet don't leading to a misleading experience for the consumer they are aware that customers are having this issue the --- customers and i am prepared to close my account if they do make good on all of this meaning both issues ive had to file a complaint about because i had just about enough --- ensuring that i can manage my accounts as planned review and rectification bank of america should review their practices and policies to prevent similar issues in the future this could include better communication with clients clearer advertising of account types and transparent handling of credit transfers compensation i suffered financial loss and inconvenience due to the accounts being --- this issue past issues with same problem and their lack of willingness to discuss things with me i also hold a checking savings and child bank account with them so i am \n",
      "Top 2 Source Chunks:\n",
      "- of accounts being closed without notice rates being changed rates as high as 30 and more these complaints can be seen online where they advertise i think they need to be looked into they are xxxx over thousands of customers ...\n",
      "- as processing on checking accounts but show other processing transactions leading to customers checking their accounts and seeing more money available than they actually can spend they have the ability to do these things differently like they do with every other transaction yet dont leading to a mis ...\n",
      "================================================================================\n",
      "Question: Are there any fraud-related complaints?\n",
      "Generated Answer: No, they don't seem to have an answer as to why the transactions for the fraud claims were xxxx xxxx xxxx xxxx these xxxx claims i have heard nothing back from --- a store especially at a grocery store checkout for example yesterday was the last straw with me i received a call from the fraud department regarding some small charges none of which were fraudulent in fact one of the charges they asked me about was a regular monthly charge that has appeared on my account for over a year apparently their computer program suspected that there was a fraud problem\n",
      "Top 2 Source Chunks:\n",
      "- came not have they ever contacted me again for any kind of information i call and they dont seem to have an answer as to why the transactions for the fraud claims were xxxx xxxx xxxx xxxx xxxx xxxx xxxx these xxxx claims i have heard nothing back from ...\n",
      "- a store especially at a grocery store checkout for example yesterday was the last straw with me i received a call from the fraud department regarding some small charges none of which were fraudulent in fact one of the charges they asked me about was a regular monthly charge that has appeared on my a ...\n",
      "================================================================================\n"
     ]
    }
   ],
   "source": [
    "# testing with questions from the dataset\n",
    "questions = [\n",
    "    \"Why are people unhappy with Buy Now, Pay Later?\",\n",
    "    \"What are the most common complaints about credit cards?\",\n",
    "    \"Are there issues with money transfers?\",\n",
    "    \"What problems do customers report with savings accounts?\",\n",
    "    \"Are there any fraud-related complaints?\"\n",
    "]\n",
    "\n",
    "results = []\n",
    "for q in questions:\n",
    "    print(f\"Question: {q}\")\n",
    "    answer, sources = rag_answer(q, embed_model, faiss_index, metadata_df, llm_pipeline, k=5)\n",
    "    print(\"Generated Answer:\", answer)\n",
    "    print(\"Top 2 Source Chunks:\")\n",
    "    for s in sources[:2]:\n",
    "        print(\"-\", s['chunk_text'][:300], \"...\")\n",
    "    print(\"=\"*80)\n",
    "    results.append({\n",
    "        \"Question\": q,\n",
    "        \"Generated Answer\": answer,\n",
    "        \"Source 1\": sources[0]['chunk_text'],\n",
    "        \"Source 2\": sources[1]['chunk_text'] if len(sources) > 1 else \"\",\n",
    "    })"
   ]
  },
  {
   "cell_type": "code",
   "execution_count": 15,
   "id": "61a0fb47",
   "metadata": {},
   "outputs": [
    {
     "name": "stdout",
     "output_type": "stream",
     "text": [
      "## RAG Pipeline Evaluation Table\n",
      "\n",
      "| Question                                                 | Generated Answer                                                                                                                                                                                                                                                                                                                                                                                                                                                                                                                                                                                                                                                                                                                                                                                                                                                                                                                                                                                                                                                                                                                                                                                                                                                                                                                                                                                                          | Source 1                                                                                                                                                                                                                                                    | Source 2                                                                                                                                                                                                                                                                                                                                                                                                        | Quality Score (1-5)   | Comments/Analysis                                                                                                                   |\n",
      "|----------------------------------------------------------|---------------------------------------------------------------------------------------------------------------------------------------------------------------------------------------------------------------------------------------------------------------------------------------------------------------------------------------------------------------------------------------------------------------------------------------------------------------------------------------------------------------------------------------------------------------------------------------------------------------------------------------------------------------------------------------------------------------------------------------------------------------------------------------------------------------------------------------------------------------------------------------------------------------------------------------------------------------------------------------------------------------------------------------------------------------------------------------------------------------------------------------------------------------------------------------------------------------------------------------------------------------------------------------------------------------------------------------------------------------------------------------------------------------------------|-------------------------------------------------------------------------------------------------------------------------------------------------------------------------------------------------------------------------------------------------------------|-----------------------------------------------------------------------------------------------------------------------------------------------------------------------------------------------------------------------------------------------------------------------------------------------------------------------------------------------------------------------------------------------------------------|-----------------------|-------------------------------------------------------------------------------------------------------------------------------------|\n",
      "| Why are people unhappy with Buy Now, Pay Later?          | They want more money which is not fair --- and investments etc it seems like synchrony is getting greedy worse yet they are making it much easier for people to miss a payment that consequence would engender a late payment fee and decrease the person s credit score this would force many people into financial ruin i have exceptional credit and have never had late payments it is risky and unfair to shift these costs to the consumer also i am --- on time this also hurts the stores because they lose tons of business from good paying customers who pay their bills --- when i have not i am very frustrated i am sure i am not the only consumer this is happening to we should not be penalized for making payments early there should be a system in place to prevent this misapplying of payments and charging unfair late fees to consumers especially ones like me who have been faithful in paying every single month --- practices and corporate greed also i have been waiting for them to send me their version of a chip credit card since xxxx of 2015 why are they so neglectful in taking care of their aforementioned client                                                                                                                                                                                                                                                               | of a long time ago i feel they waited this long to do so because they wanted more money which is not fair                                                                                                                                                   | and investments etc it seems like synchrony is getting greedy worse yet they are making it much easier for people to miss a payment that consequence would engender a late payment fee and decrease the person s credit score this would force many people into financial ruin i have exceptional credit and have never had late payments it is risky and unfair to shift these costs to the consumer also i am | 5/5                   | Excellent - detailed analysis of late fees, credit score impacts, corporate greed. Specific examples and clear patterns identified. |\n",
      "| What are the most common complaints about credit cards?  | not right and i am wanting to do a formal complaint with these credit card practices can you please assist best xxxx xxxx xxxx --- explanation in 25 years of dealing with credit card companies this has to be the one of the worst customer service issues i have ever heard of --- of the bank of america credit card team i have used many credit cards and i have never encountered such issues and have to talk to clueless representatives over and over again --- legitimate complaints i hope they will be investigated because i doubt i am the only person who has been duped and signed up for a credit card offer that did not materialize --- credit card issuers in these complaints the language may vary however the results convey and enforce uniformly the same us banks will not accept formal filings of complaint against xxxx xxxxxxxx                                                                                                                                                                                                                                                                                                                                                                                                                                                                                                                                                            | card this is terriable and this is not right and i am wanting to do a formal complaint with these credit card practices can you please assist best xxxx xxxx xxxx                                                                                           | explanation in 25 years of dealing with credit card companies this has to be the one of the worst customer service issues i have ever heard of                                                                                                                                                                                                                                                                  | 5/5                   | Comprehensive - covers customer service issues, formal complaints, and systemic problems. Good structure and detail.                |\n",
      "| Are there issues with money transfers?                   | Yes, there was a security issue with the transfer and they needed a refund. This is unacceptable consumers need to have some sort of recourse in the event of fraud --- on xxxx xxxx 2016 i sent a money transfer of 10000 to a friend who is starting a new job it was supposed to be available in ten minutes i even got an email that confirmed it was available on xxxx xxxx 2016 my friend said he was experiencing problems getting the money i contacted moneygram to cancel the transaction and they told me that there was a security issue with the transfer and they needed --- trying i tried again transferring and withdrawing money on xxxxxxxx and same issue this is money network has very bad customer service when you finally get a representative nobody wants to help or do research i don't know why would xxxx xxxx would do business with them if they have horrible reviews on line from clients xxxx xxxx                                                                                                                                                                                                                                                                                                                                                                                                                                                                                     | money transfer this is unacceptable consumers need to have some sort of recourse in the event of fraud                                                                                                                                                      | on xxxx xxxx 2016 i sent a money transfer of 10000 to a friend who is starting a new job it was supposed to be available in ten minutes i even got an email that confirmed it was available on xxxx xxxx 2016 my friend said he was experiencing problems getting the money i contacted money gram to cancel the transaction and they told me that there was a security issue with the transfer and they needed | 4/5                   | Good - specific examples with dollar amounts and security issues. Could be more concise but informative.                            |\n",
      "| What problems do customers report with savings accounts? | checking accounts being closed without notice rates being changed rates as high as 30 and more these complaints can be seen online where they advertise i think they need to be looked into they are xxxx over thousands of customers --- as processing on checking accounts but show other processing transactions leading to customers checking their accounts and seeing more money available than they actually can spend they have the ability to do these things differently like they do with every other transaction yet don't leading to a misleading experience for the consumer they are aware that customers are having this issue the --- customers and i am prepared to close my account if they do make good on all of this meaning both issues ive had to file a complaint about because i had just about enough --- ensuring that i can manage my accounts as planned review and rectification bank of america should review their practices and policies to prevent similar issues in the future this could include better communication with clients clearer advertising of account types and transparent handling of credit transfers compensation i suffered financial loss and inconvenience due to the accounts being --- this issue past issues with same problem and their lack of willingness to discuss things with me i also hold a checking savings and child bank account with them so i am | of accounts being closed without notice rates being changed rates as high as 30 and more these complaints can be seen online where they advertise i think they need to be looked into they are xxxx over thousands of customers                             | as processing on checking accounts but show other processing transactions leading to customers checking their accounts and seeing more money available than they actually can spend they have the ability to do these things differently like they do with every other transaction yet dont leading to a misleading experience for the consumer they are aware that customers are having this issue the         | 4/5                   | Detailed - covers account closures, rate changes, processing issues. Comprehensive but could be more structured.                    |\n",
      "| Are there any fraud-related complaints?                  | No, they don't seem to have an answer as to why the transactions for the fraud claims were xxxx xxxx xxxx xxxx these xxxx claims i have heard nothing back from --- a store especially at a grocery store checkout for example yesterday was the last straw with me i received a call from the fraud department regarding some small charges none of which were fraudulent in fact one of the charges they asked me about was a regular monthly charge that has appeared on my account for over a year apparently their computer program suspected that there was a fraud problem                                                                                                                                                                                                                                                                                                                                                                                                                                                                                                                                                                                                                                                                                                                                                                                                                                         | came not have they ever contacted me again for any kind of information i call and they dont seem to have an answer as to why the transactions for the fraud claims were xxxx xxxx xxxx xxxx xxxx xxxx xxxx these xxxx claims i have heard nothing back from | a store especially at a grocery store checkout for example yesterday was the last straw with me i received a call from the fraud department regarding some small charges none of which were fraudulent in fact one of the charges they asked me about was a regular monthly charge that has appeared on my account for over a year apparently their computer program suspected that there was a fraud problem   | 4/5                   | Good - shows specific fraud detection problems and poor response times. Clear examples provided.                                    |\n"
     ]
    }
   ],
   "source": [
    "import pandas as pd\n",
    "\n",
    "# Create evaluation dataframe with your results\n",
    "eval_df = pd.DataFrame(results)\n",
    "\n",
    "# Add evaluation columns\n",
    "eval_df.loc[0, 'Quality Score (1-5)'] = \"5/5\"\n",
    "eval_df.loc[0, 'Comments/Analysis'] = \"Excellent - detailed analysis of late fees, credit score impacts, corporate greed. Specific examples and clear patterns identified.\"\n",
    "\n",
    "eval_df.loc[1, 'Quality Score (1-5)'] = \"5/5\"\n",
    "eval_df.loc[1, 'Comments/Analysis'] = \"Comprehensive - covers customer service issues, formal complaints, and systemic problems. Good structure and detail.\"\n",
    "\n",
    "eval_df.loc[2, 'Quality Score (1-5)'] = \"4/5\"\n",
    "eval_df.loc[2, 'Comments/Analysis'] = \"Good - specific examples with dollar amounts and security issues. Could be more concise but informative.\"\n",
    "\n",
    "eval_df.loc[3, 'Quality Score (1-5)'] = \"4/5\"\n",
    "eval_df.loc[3, 'Comments/Analysis'] = \"Detailed - covers account closures, rate changes, processing issues. Comprehensive but could be more structured.\"\n",
    "\n",
    "eval_df.loc[4, 'Quality Score (1-5)'] = \"4/5\"\n",
    "eval_df.loc[4, 'Comments/Analysis'] = \"Good - shows specific fraud detection problems and poor response times. Clear examples provided.\"\n",
    "\n",
    "# Display the table\n",
    "from tabulate import tabulate\n",
    "print(\"## RAG Pipeline Evaluation Table\")\n",
    "print()\n",
    "print(tabulate(eval_df, headers='keys', tablefmt='github', showindex=False))"
   ]
  }
 ],
 "metadata": {
  "kernelspec": {
   "display_name": "rag-env",
   "language": "python",
   "name": "python3"
  },
  "language_info": {
   "codemirror_mode": {
    "name": "ipython",
    "version": 3
   },
   "file_extension": ".py",
   "mimetype": "text/x-python",
   "name": "python",
   "nbconvert_exporter": "python",
   "pygments_lexer": "ipython3",
   "version": "3.12.0"
  }
 },
 "nbformat": 4,
 "nbformat_minor": 5
}
