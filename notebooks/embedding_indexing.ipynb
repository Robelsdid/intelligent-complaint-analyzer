{
 "cells": [
  {
   "cell_type": "code",
   "execution_count": 1,
   "id": "dcccf6e6",
   "metadata": {},
   "outputs": [],
   "source": [
    "import pandas as pd\n",
    "import sys\n",
    "sys.path.append('../src')\n",
    "\n",
    "from embedding import embed_texts"
   ]
  },
  {
   "cell_type": "code",
   "execution_count": 2,
   "id": "cd99c330",
   "metadata": {},
   "outputs": [
    {
     "data": {
      "text/html": [
       "<div>\n",
       "<style scoped>\n",
       "    .dataframe tbody tr th:only-of-type {\n",
       "        vertical-align: middle;\n",
       "    }\n",
       "\n",
       "    .dataframe tbody tr th {\n",
       "        vertical-align: top;\n",
       "    }\n",
       "\n",
       "    .dataframe thead th {\n",
       "        text-align: right;\n",
       "    }\n",
       "</style>\n",
       "<table border=\"1\" class=\"dataframe\">\n",
       "  <thead>\n",
       "    <tr style=\"text-align: right;\">\n",
       "      <th></th>\n",
       "      <th>chunk_text</th>\n",
       "      <th>chunk_id</th>\n",
       "      <th>Product</th>\n",
       "    </tr>\n",
       "  </thead>\n",
       "  <tbody>\n",
       "    <tr>\n",
       "      <th>0</th>\n",
       "      <td>a xxxx xxxx card was opened under my name by a...</td>\n",
       "      <td>0_0</td>\n",
       "      <td>Credit card</td>\n",
       "    </tr>\n",
       "    <tr>\n",
       "      <th>1</th>\n",
       "      <td>have failed to remove this from the three cred...</td>\n",
       "      <td>0_1</td>\n",
       "      <td>Credit card</td>\n",
       "    </tr>\n",
       "    <tr>\n",
       "      <th>2</th>\n",
       "      <td>dear cfpb i have a secured credit card with ci...</td>\n",
       "      <td>1_0</td>\n",
       "      <td>Credit card</td>\n",
       "    </tr>\n",
       "    <tr>\n",
       "      <th>3</th>\n",
       "      <td>who where and when did it happen i requested a...</td>\n",
       "      <td>1_1</td>\n",
       "      <td>Credit card</td>\n",
       "    </tr>\n",
       "    <tr>\n",
       "      <th>4</th>\n",
       "      <td>told me same thing no info no help at all plea...</td>\n",
       "      <td>1_2</td>\n",
       "      <td>Credit card</td>\n",
       "    </tr>\n",
       "  </tbody>\n",
       "</table>\n",
       "</div>"
      ],
      "text/plain": [
       "                                          chunk_text chunk_id      Product\n",
       "0  a xxxx xxxx card was opened under my name by a...      0_0  Credit card\n",
       "1  have failed to remove this from the three cred...      0_1  Credit card\n",
       "2  dear cfpb i have a secured credit card with ci...      1_0  Credit card\n",
       "3  who where and when did it happen i requested a...      1_1  Credit card\n",
       "4  told me same thing no info no help at all plea...      1_2  Credit card"
      ]
     },
     "execution_count": 2,
     "metadata": {},
     "output_type": "execute_result"
    }
   ],
   "source": [
    "chunked_df = pd.read_csv('../data/chunked_complaints.csv')\n",
    "chunked_df.head()"
   ]
  },
  {
   "cell_type": "code",
   "execution_count": 3,
   "id": "86652002",
   "metadata": {},
   "outputs": [
    {
     "data": {
      "application/vnd.jupyter.widget-view+json": {
       "model_id": "9abb4f82fec94ca7933c987894097959",
       "version_major": 2,
       "version_minor": 0
      },
      "text/plain": [
       "Batches:   0%|          | 0/9744 [00:00<?, ?it/s]"
      ]
     },
     "metadata": {},
     "output_type": "display_data"
    },
    {
     "name": "stdout",
     "output_type": "stream",
     "text": [
      "Embeddings shape: (311806, 384)\n"
     ]
    }
   ],
   "source": [
    "embeddings = embed_texts(chunked_df['chunk_text'])\n",
    "print(\"Embeddings shape:\", embeddings.shape)"
   ]
  },
  {
   "cell_type": "code",
   "execution_count": 4,
   "id": "5d248070",
   "metadata": {},
   "outputs": [
    {
     "name": "stdout",
     "output_type": "stream",
     "text": [
      "FAISS index saved to ../vector_store/complaints_faiss.index\n"
     ]
    }
   ],
   "source": [
    "import faiss\n",
    "import numpy as np\n",
    "import os\n",
    "\n",
    "# Build FAISS index\n",
    "dimension = embeddings.shape[1]\n",
    "index = faiss.IndexFlatL2(dimension)\n",
    "index.add(np.array(embeddings).astype('float32'))\n",
    "\n",
    "# Save the index\n",
    "faiss.write_index(index, '../vector_store/complaints_faiss.index')\n",
    "print(\"FAISS index saved to ../vector_store/complaints_faiss.index\")"
   ]
  },
  {
   "cell_type": "code",
   "execution_count": 5,
   "id": "79d3773b",
   "metadata": {},
   "outputs": [
    {
     "name": "stdout",
     "output_type": "stream",
     "text": [
      "Metadata saved to ../vector_store/complaints_metadata.csv\n"
     ]
    }
   ],
   "source": [
    "# Saving metadata (chunk_id, product, etc.) for later retrieval\n",
    "chunked_df[['chunk_id', 'Product']].to_csv('../vector_store/complaints_metadata.csv', index=False)\n",
    "print(\"Metadata saved to ../vector_store/complaints_metadata.csv\")"
   ]
  },
  {
   "cell_type": "code",
   "execution_count": 6,
   "id": "cff58d3c",
   "metadata": {},
   "outputs": [
    {
     "name": "stdout",
     "output_type": "stream",
     "text": [
      "Indices of top 5 similar chunks: [[     0 258418 106956  42639  23782]]\n",
      "Distances: [[0.         0.24230747 0.32806346 0.33932364 0.34341097]]\n",
      "Corresponding chunk texts:\n",
      "a xxxx xxxx card was opened under my name by a fraudster i received a notice from xxxx that an account was just opened under my name i reached out to xxxx xxxx to state that this activity was unauthorized and not me xxxx xxxx confirmed this was fraudulent and immediately closed the card however they have failed to remove this from the three credit agencies and this fraud is now impacting my credit\n",
      "---\n",
      "i was notified by xxxx that a xxxx xxxx credit card was opened in my name i did not open this credit card i looked at my credit report and the credit card was opened on xxxx and there was xxxx charged to the account i called xxxx xxxx on xxxxyear and spoke to their fraud department and they were going to close the account\n",
      "---\n",
      "someone opened 2 credit cards in my name using my information i called the company am i called the credit bureau i also sent in the police report stating this was fraud i also target to close and remove this account and i asked xxxx xxxx to remove an close this account as they are not the account that i have applied for xxxx xxxx told me the will close an remove the account an target told me the\n",
      "---\n",
      "a fraudulent xxxx credit card was opened in my name and charged many items i never applied or authorized this account\n",
      "---\n",
      "someone fraudulently opened a credit card in my name at xxxx in xxxx i immediately reported it as fraud and initiated a dispute and investigation xxxx came back and said they found no fraud and insisted i pay the fraudulent charges i never called to confirm the new account as stated in the introduction letter i received but they allowed the card to be used anyways i never received any card in the\n",
      "---\n"
     ]
    }
   ],
   "source": [
    "# Example: Retrieve the 5 most similar chunks to a random embedding\n",
    "D, I = index.search(np.array([embeddings[0]]).astype('float32'), 5)\n",
    "print(\"Indices of top 5 similar chunks:\", I)\n",
    "print(\"Distances:\", D)\n",
    "print(\"Corresponding chunk texts:\")\n",
    "for idx in I[0]:\n",
    "    print(chunked_df.iloc[idx]['chunk_text'])\n",
    "    print(\"---\")"
   ]
  }
 ],
 "metadata": {
  "kernelspec": {
   "display_name": "rag-env",
   "language": "python",
   "name": "python3"
  },
  "language_info": {
   "codemirror_mode": {
    "name": "ipython",
    "version": 3
   },
   "file_extension": ".py",
   "mimetype": "text/x-python",
   "name": "python",
   "nbconvert_exporter": "python",
   "pygments_lexer": "ipython3",
   "version": "3.12.0"
  }
 },
 "nbformat": 4,
 "nbformat_minor": 5
}
